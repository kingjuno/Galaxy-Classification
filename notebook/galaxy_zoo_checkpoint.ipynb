{
  "cells": [
    {
      "cell_type": "code",
      "execution_count": null,
      "metadata": {
        "colab": {
          "base_uri": "https://localhost:8080/"
        },
        "id": "lbNO7QMPuqki",
        "outputId": "d847e605-f6e5-46fa-c7ea-8fbc705a07ad"
      },
      "outputs": [],
      "source": [
        "from google.colab import drive\n",
        "drive.mount('/content/gdrive')\n",
        "!ls /content/gdrive/MyDrive/'machine learning'"
      ]
    },
    {
      "cell_type": "code",
      "execution_count": null,
      "metadata": {
        "id": "6WfbgQqRwRdP"
      },
      "outputs": [],
      "source": [
        "PATH = \"/content/gdrive/MyDrive/machine learning/\""
      ]
    },
    {
      "cell_type": "code",
      "execution_count": null,
      "metadata": {
        "colab": {
          "base_uri": "https://localhost:8080/"
        },
        "id": "RJCKe5HGBzH4",
        "outputId": "ad00c255-9825-4801-a743-b48a46daf1d9"
      },
      "outputs": [],
      "source": [
        "! pip install -q kaggle\n",
        "! mkdir ~/.kaggle\n",
        "! rm ~/.kaggle/kaggle.json\n",
        "! cp /content/gdrive/MyDrive/'machine learning'/kaggle.json ~/.kaggle/\n",
        "! chmod 600 ~/.kaggle/kaggle.json\n",
        "! kaggle competitions download -c galaxy-zoo-the-galaxy-challenge --force"
      ]
    },
    {
      "cell_type": "code",
      "execution_count": null,
      "metadata": {
        "_cell_guid": "b1076dfc-b9ad-4769-8c92-a6c4dae69d19",
        "_uuid": "8f2839f25d086af736a60e9eeb907d3b93b6e0e5",
        "execution": {
          "iopub.execute_input": "2022-02-08T10:31:50.874212Z",
          "iopub.status.busy": "2022-02-08T10:31:50.873187Z",
          "iopub.status.idle": "2022-02-08T10:31:50.912069Z",
          "shell.execute_reply": "2022-02-08T10:31:50.911212Z",
          "shell.execute_reply.started": "2022-02-08T10:31:50.874102Z"
        },
        "id": "lbbcQ-_YBWlK",
        "trusted": true
      },
      "outputs": [],
      "source": [
        "import numpy as np\n",
        "import pandas as pd\n",
        "\n",
        "import os\n",
        "# for dirname, _, filenames in os.walk('/kaggle/input'):\n",
        "#     for filename in filenames:\n",
        "#         print(os.path.join(dirname, filename))"
      ]
    },
    {
      "cell_type": "code",
      "execution_count": null,
      "metadata": {
        "execution": {
          "iopub.execute_input": "2022-02-08T10:31:50.914825Z",
          "iopub.status.busy": "2022-02-08T10:31:50.914267Z",
          "iopub.status.idle": "2022-02-08T10:31:51.09738Z",
          "shell.execute_reply": "2022-02-08T10:31:51.096546Z",
          "shell.execute_reply.started": "2022-02-08T10:31:50.914784Z"
        },
        "id": "ekNUGLO5BWlO",
        "trusted": true
      },
      "outputs": [],
      "source": [
        "import random\n",
        "from PIL import Image\n",
        "from cv2 import imread\n",
        "import matplotlib.pyplot as plt"
      ]
    },
    {
      "cell_type": "code",
      "execution_count": null,
      "metadata": {
        "execution": {
          "iopub.execute_input": "2022-02-08T10:31:51.09973Z",
          "iopub.status.busy": "2022-02-08T10:31:51.099481Z",
          "iopub.status.idle": "2022-02-08T10:32:12.196987Z",
          "shell.execute_reply": "2022-02-08T10:32:12.195904Z",
          "shell.execute_reply.started": "2022-02-08T10:31:51.099691Z"
        },
        "id": "2AX0QdmZBWlP",
        "trusted": true
      },
      "outputs": [],
      "source": [
        "%%capture\n",
        "!unzip images_training_rev1.zip\n",
        "!unzip training_solutions_rev1.zip"
      ]
    },
    {
      "cell_type": "code",
      "execution_count": null,
      "metadata": {
        "colab": {
          "base_uri": "https://localhost:8080/",
          "height": 270
        },
        "execution": {
          "iopub.execute_input": "2022-02-08T10:32:12.199079Z",
          "iopub.status.busy": "2022-02-08T10:32:12.19873Z",
          "iopub.status.idle": "2022-02-08T10:32:12.507092Z",
          "shell.execute_reply": "2022-02-08T10:32:12.50641Z",
          "shell.execute_reply.started": "2022-02-08T10:32:12.199011Z"
        },
        "id": "oWp3YnYIBWlP",
        "outputId": "f150d107-b46c-47c3-f50a-1d32a80b423a",
        "trusted": true
      },
      "outputs": [],
      "source": [
        "train_set = pd.read_csv('training_solutions_rev1.csv')\n",
        "files = os.listdir('./images_training_rev1')\n",
        "\n",
        "train_set.head()"
      ]
    },
    {
      "cell_type": "code",
      "execution_count": null,
      "metadata": {
        "colab": {
          "base_uri": "https://localhost:8080/",
          "height": 520
        },
        "execution": {
          "iopub.execute_input": "2022-02-08T10:32:12.510171Z",
          "iopub.status.busy": "2022-02-08T10:32:12.509382Z",
          "iopub.status.idle": "2022-02-08T10:32:13.760284Z",
          "shell.execute_reply": "2022-02-08T10:32:13.759539Z",
          "shell.execute_reply.started": "2022-02-08T10:32:12.510133Z"
        },
        "id": "nbXHVW7kBWlP",
        "outputId": "de36ee17-c49a-4352-d1a5-237dd439f96c",
        "trusted": true
      },
      "outputs": [],
      "source": [
        "plt.figure(1, figsize=(9, 9))\n",
        "plt.axis('off')\n",
        "n = 0\n",
        "for i in range(16):\n",
        "  n += 1\n",
        "  random_img = './images_training_rev1/'+random.choice(files)\n",
        "  imgs = imread(random_img)\n",
        "  plt.subplot(4, 4, n)\n",
        "  plt.axis('off')\n",
        "  plt.imshow(imgs)\n",
        "\n",
        "plt.show()"
      ]
    },
    {
      "cell_type": "code",
      "execution_count": null,
      "metadata": {
        "execution": {
          "iopub.execute_input": "2022-02-08T10:32:13.762204Z",
          "iopub.status.busy": "2022-02-08T10:32:13.761709Z",
          "iopub.status.idle": "2022-02-08T10:32:24.079288Z",
          "shell.execute_reply": "2022-02-08T10:32:24.078366Z",
          "shell.execute_reply.started": "2022-02-08T10:32:13.762166Z"
        },
        "id": "rzQwpo0YBWlQ",
        "trusted": true
      },
      "outputs": [],
      "source": [
        "%%capture\n",
        "!pip install torchsummary"
      ]
    },
    {
      "cell_type": "code",
      "execution_count": null,
      "metadata": {
        "execution": {
          "iopub.execute_input": "2022-02-08T10:32:24.08161Z",
          "iopub.status.busy": "2022-02-08T10:32:24.081316Z",
          "iopub.status.idle": "2022-02-08T10:32:26.020163Z",
          "shell.execute_reply": "2022-02-08T10:32:26.019367Z",
          "shell.execute_reply.started": "2022-02-08T10:32:24.081571Z"
        },
        "id": "EhxR_bcEBWlQ",
        "trusted": true
      },
      "outputs": [],
      "source": [
        "import torch\n",
        "import torchvision\n",
        "from torchsummary import summary\n",
        "from tqdm import tqdm\n",
        "import torchvision.models as models\n",
        "import torch.optim as optim\n",
        "import torch.nn.functional as F\n",
        "import torch.nn as nn\n",
        "from torchvision import datasets, transforms\n",
        "from torch.utils.data import DataLoader, random_split\n",
        "from torch.utils.data.sampler import SubsetRandomSampler"
      ]
    },
    {
      "cell_type": "code",
      "execution_count": null,
      "metadata": {
        "colab": {
          "base_uri": "https://localhost:8080/"
        },
        "execution": {
          "iopub.execute_input": "2022-02-08T10:32:26.021922Z",
          "iopub.status.busy": "2022-02-08T10:32:26.021657Z",
          "iopub.status.idle": "2022-02-08T10:32:26.068322Z",
          "shell.execute_reply": "2022-02-08T10:32:26.067145Z",
          "shell.execute_reply.started": "2022-02-08T10:32:26.021887Z"
        },
        "id": "cQemkkhNBWlR",
        "outputId": "a9b30aba-5709-4d13-896c-4ef0903a960f",
        "trusted": true
      },
      "outputs": [],
      "source": [
        "device = 'cuda' if torch.cuda.is_available() else 'cpu'\n",
        "print(f'Device: {device}')"
      ]
    },
    {
      "cell_type": "code",
      "execution_count": null,
      "metadata": {
        "execution": {
          "iopub.execute_input": "2022-02-08T10:32:26.070512Z",
          "iopub.status.busy": "2022-02-08T10:32:26.069823Z",
          "iopub.status.idle": "2022-02-08T10:32:26.078702Z",
          "shell.execute_reply": "2022-02-08T10:32:26.07797Z",
          "shell.execute_reply.started": "2022-02-08T10:32:26.070413Z"
        },
        "id": "9Klx3_9UBWlS",
        "trusted": true
      },
      "outputs": [],
      "source": [
        "train_folder = './images_training_rev1'\n",
        "test_folder = './images_test_rev1'"
      ]
    },
    {
      "cell_type": "code",
      "execution_count": null,
      "metadata": {
        "execution": {
          "iopub.execute_input": "2022-02-08T10:32:26.080484Z",
          "iopub.status.busy": "2022-02-08T10:32:26.079899Z",
          "iopub.status.idle": "2022-02-08T10:32:26.088563Z",
          "shell.execute_reply": "2022-02-08T10:32:26.087774Z",
          "shell.execute_reply.started": "2022-02-08T10:32:26.080442Z"
        },
        "id": "hmLeSJb9BWlS",
        "trusted": true
      },
      "outputs": [],
      "source": [
        "transform = transforms.Compose([transforms.Resize(255),\n",
        "    transforms.CenterCrop(224),\n",
        "    transforms.RandomHorizontalFlip(),\n",
        "    transforms.RandomRotation(10),\n",
        "    transforms.RandomGrayscale(),\n",
        "    transforms.RandomAffine(translate=(0.05,0.05), degrees=0),\n",
        "    transforms.ToTensor()\n",
        "])"
      ]
    },
    {
      "cell_type": "code",
      "execution_count": null,
      "metadata": {
        "execution": {
          "iopub.execute_input": "2022-02-08T10:32:26.090268Z",
          "iopub.status.busy": "2022-02-08T10:32:26.089862Z",
          "iopub.status.idle": "2022-02-08T10:32:26.099452Z",
          "shell.execute_reply": "2022-02-08T10:32:26.098599Z",
          "shell.execute_reply.started": "2022-02-08T10:32:26.090183Z"
        },
        "id": "3C5wZdulBWlT",
        "trusted": true
      },
      "outputs": [],
      "source": [
        "class GalaxyDataSet(torch.utils.data.Dataset):\n",
        "    def __init__(self, df, image_folder, transform = None):\n",
        "        self.df = df\n",
        "        self.image_folder = image_folder\n",
        "        self.transform = transform\n",
        "\n",
        "    def __len__(self):\n",
        "        return len(self.df)\n",
        "\n",
        "    def __getitem__(self, index):\n",
        "        filename = self.df.loc[index, 'GalaxyID']\n",
        "        label = torch.Tensor(self.df.values.tolist()[index][1:])\n",
        "        image = Image.open(os.path.join(self.image_folder, str(filename)+'.jpg'))\n",
        "        if self.transform is not None:\n",
        "            image = self.transform(image)\n",
        "        return image, label"
      ]
    },
    {
      "cell_type": "code",
      "execution_count": null,
      "metadata": {
        "execution": {
          "iopub.execute_input": "2022-02-08T10:32:26.101319Z",
          "iopub.status.busy": "2022-02-08T10:32:26.101053Z",
          "iopub.status.idle": "2022-02-08T10:32:26.110673Z",
          "shell.execute_reply": "2022-02-08T10:32:26.109845Z",
          "shell.execute_reply.started": "2022-02-08T10:32:26.101284Z"
        },
        "id": "-JwfcvP7BWlU",
        "trusted": true
      },
      "outputs": [],
      "source": [
        "TrainDataSet = GalaxyDataSet(train_set, train_folder, transform)"
      ]
    },
    {
      "cell_type": "code",
      "execution_count": null,
      "metadata": {
        "execution": {
          "iopub.execute_input": "2022-02-08T10:32:26.111953Z",
          "iopub.status.busy": "2022-02-08T10:32:26.111744Z",
          "iopub.status.idle": "2022-02-08T10:32:26.123442Z",
          "shell.execute_reply": "2022-02-08T10:32:26.122741Z",
          "shell.execute_reply.started": "2022-02-08T10:32:26.11193Z"
        },
        "id": "ROpl8YUNBWlU",
        "trusted": true
      },
      "outputs": [],
      "source": [
        "batch_size = 128\n",
        "validation_split = .3\n",
        "shuffle_dataset = True\n",
        "\n",
        "dataset_size = len(TrainDataSet)\n",
        "indices = list(range(dataset_size))\n",
        "split = int(np.floor(validation_split * dataset_size))\n",
        "\n",
        "def randomsampler():\n",
        "    np.random.seed(random.randrange(20, 50, 1))\n",
        "    np.random.shuffle(indices)\n",
        "    train_indices, val_indices = indices[split:], indices[:split]\n",
        "    # train_indices = random.sample(train_indices, random.randrange(12, 15))\n",
        "    # val_indices = random.sample(train_indices, random.randrange(2, 4))\n",
        "    train_sampler = SubsetRandomSampler(train_indices)\n",
        "    valid_sampler = SubsetRandomSampler(val_indices)\n",
        "    return train_sampler, valid_sampler"
      ]
    },
    {
      "cell_type": "code",
      "execution_count": null,
      "metadata": {
        "colab": {
          "base_uri": "https://localhost:8080/",
          "height": 1000,
          "referenced_widgets": [
            "1086928d754045f58383deb04ecfc9ba",
            "ec442f93fa49448594ceb62d03c4c373",
            "1d3ca0eeddf54dbba1f606b94c4cbabb",
            "7edb770db3e645799691f372a757b06d",
            "cc272ed1e5284ef48636a12eacfab7da",
            "dcf774e46522468db12985ecdcca7c67",
            "ab2768e2d56b4381b2f89104d6705831",
            "c8f936ef79204059b8a09b0ae32ff04b",
            "870e1589c5d042c799f942d52b765759",
            "e2033f07ff5743b2bc46bf5ddd50ceb0",
            "a5d46837745b42ada8c36df78fd209de"
          ]
        },
        "execution": {
          "iopub.execute_input": "2022-02-08T10:32:34.671641Z",
          "iopub.status.busy": "2022-02-08T10:32:34.671372Z",
          "iopub.status.idle": "2022-02-08T10:32:34.677501Z",
          "shell.execute_reply": "2022-02-08T10:32:34.676533Z",
          "shell.execute_reply.started": "2022-02-08T10:32:34.671595Z"
        },
        "id": "ft6PVvF1BWlV",
        "outputId": "456c89b8-7612-49a1-aeed-5539747719de",
        "trusted": true
      },
      "outputs": [],
      "source": [
        "model = models.resnet18(pretrained = True)\n",
        "model.fc = nn.Sequential(\n",
        "    nn.Softmax(dim=1),\n",
        "    nn.Linear(512, 37))\n",
        "model.load_state_dict(torch.load(PATH+'galaxy_classifier_model.pt', map_location=device))\n",
        "model = model.to(device)\n",
        "summary(model, input_size = (3, 224, 224))"
      ]
    },
    {
      "cell_type": "code",
      "execution_count": null,
      "metadata": {
        "execution": {
          "iopub.execute_input": "2022-02-08T10:32:34.679208Z",
          "iopub.status.busy": "2022-02-08T10:32:34.678917Z",
          "iopub.status.idle": "2022-02-08T10:32:34.68613Z",
          "shell.execute_reply": "2022-02-08T10:32:34.685421Z",
          "shell.execute_reply.started": "2022-02-08T10:32:34.679155Z"
        },
        "id": "bR7O96JlBWlV",
        "trusted": true
      },
      "outputs": [],
      "source": [
        "epochs = 1\n",
        "alpha = 0.001\n",
        "optimizer = optim.Adam(model.parameters(), lr = alpha)\n",
        "criterion = nn.MultiLabelSoftMarginLoss()"
      ]
    },
    {
      "cell_type": "code",
      "execution_count": null,
      "metadata": {
        "execution": {
          "iopub.execute_input": "2022-02-08T10:32:34.687875Z",
          "iopub.status.busy": "2022-02-08T10:32:34.687498Z",
          "iopub.status.idle": "2022-02-08T10:32:34.69677Z",
          "shell.execute_reply": "2022-02-08T10:32:34.695779Z",
          "shell.execute_reply.started": "2022-02-08T10:32:34.687835Z"
        },
        "id": "nTjCjmeEBWlW",
        "trusted": true
      },
      "outputs": [],
      "source": [
        "def eval_loop(model, valloader, criterion, optimizer):\n",
        "    model.eval()\n",
        "    tr_loss, tr_acc = 0.0, 0.0\n",
        "    ep = 0\n",
        "    with torch.no_grad():\n",
        "        for i, (data, label) in enumerate(tqdm(valloader)):\n",
        "            ep = i\n",
        "            data, label = data.to(device), label.to(device)\n",
        "            pred = model(data)\n",
        "            loss = criterion(pred, label)\n",
        "            tr_loss += loss.item()\n",
        "            diff = pred - loss\n",
        "            for ft in diff:\n",
        "                tr_acc += len(ft[abs(ft) <= 0.2])/len(ft)\n",
        "            tr_acc = tr_acc/len(diff)\n",
        "    return tr_loss/len(valloader.dataset), 100*tr_acc/(ep+1)"
      ]
    },
    {
      "cell_type": "code",
      "execution_count": null,
      "metadata": {
        "execution": {
          "iopub.execute_input": "2022-02-08T10:32:34.698912Z",
          "iopub.status.busy": "2022-02-08T10:32:34.69795Z",
          "iopub.status.idle": "2022-02-08T10:32:34.709517Z",
          "shell.execute_reply": "2022-02-08T10:32:34.708796Z",
          "shell.execute_reply.started": "2022-02-08T10:32:34.698873Z"
        },
        "id": "Zr7vSnPMBWlW",
        "trusted": true
      },
      "outputs": [],
      "source": [
        "def training_loop(model, trainloader, criterion, optimizer):\n",
        "    model.train()\n",
        "    tr_loss, tr_acc = 0.0, 0.0\n",
        "    ep = 0\n",
        "    for i, (data, label) in enumerate(tqdm(trainloader)):\n",
        "        ep = i\n",
        "        data, label = data.to(device), label.to(device)\n",
        "        optimizer.zero_grad()\n",
        "        pred = model(data)\n",
        "        loss = criterion(pred, label)\n",
        "        loss.backward()\n",
        "        optimizer.step()\n",
        "        \n",
        "        tr_loss += loss.item()\n",
        "        diff = pred - loss\n",
        "        for ft in diff:\n",
        "            tr_acc += len(ft[abs(ft) <= 0.2])/len(ft)\n",
        "        tr_acc = tr_acc/len(diff)\n",
        "    return tr_loss/len(trainloader.dataset), 100*tr_acc/(ep+1)"
      ]
    },
    {
      "cell_type": "code",
      "execution_count": null,
      "metadata": {
        "execution": {
          "iopub.execute_input": "2022-02-08T10:32:34.71177Z",
          "iopub.status.busy": "2022-02-08T10:32:34.711215Z",
          "iopub.status.idle": "2022-02-08T10:32:34.721469Z",
          "shell.execute_reply": "2022-02-08T10:32:34.720609Z",
          "shell.execute_reply.started": "2022-02-08T10:32:34.711732Z"
        },
        "id": "1tAuKxQbBWlW",
        "trusted": true
      },
      "outputs": [],
      "source": [
        "def train_model(model, criterion, optimizer, epoch):\n",
        "    print('-'*5+'Training'+'-'*5)\n",
        "    stats = {\n",
        "        't_loss' : [],\n",
        "        'v_loss' : [],\n",
        "        't_acc'  : [],\n",
        "        'v_acc'  : []\n",
        "    }\n",
        "    for ep in range(epoch):\n",
        "        torch.cuda.empty_cache()\n",
        "        print(f'Training epoch: {ep+1}')\n",
        "        train_sampler, val_sampler = randomsampler()\n",
        "        trainloader = torch.utils.data.DataLoader(TrainDataSet, batch_size=batch_size, sampler=train_sampler)\n",
        "        valloader = torch.utils.data.DataLoader(TrainDataSet, batch_size=batch_size, sampler=val_sampler)\n",
        "        t_loss, t_acc = training_loop(model, trainloader,criterion, optimizer)\n",
        "        v_loss, v_acc = eval_loop(model, valloader, criterion, optimizer)\n",
        "        print(f'Training loss:{t_loss} Training accuracy: {t_acc}')\n",
        "        print(f'Validation loss: {v_loss} Validation accuracy: {v_acc}')\n",
        "        stats['t_loss'].append(t_loss)\n",
        "        stats['v_loss'].append(v_loss)\n",
        "        stats['v_acc'].append(v_acc)\n",
        "        stats['t_acc'].append(t_acc)\n",
        "        torch.save(model.state_dict(), PATH+'galaxy_classifier_model_1.pt')\n",
        "        print(f'Epoch {ep+1}: Model saved')\n",
        "    print('Finished Training')\n",
        "    return stats"
      ]
    },
    {
      "cell_type": "code",
      "execution_count": null,
      "metadata": {
        "colab": {
          "base_uri": "https://localhost:8080/"
        },
        "execution": {
          "iopub.execute_input": "2022-02-08T10:32:34.723433Z",
          "iopub.status.busy": "2022-02-08T10:32:34.722912Z",
          "iopub.status.idle": "2022-02-08T13:59:07.158509Z",
          "shell.execute_reply": "2022-02-08T13:59:07.157027Z",
          "shell.execute_reply.started": "2022-02-08T10:32:34.723395Z"
        },
        "id": "MJZPac_lBWlX",
        "outputId": "a5ec66c7-74f5-458f-f017-947af0db06e3",
        "trusted": true
      },
      "outputs": [],
      "source": [
        "hist = train_model(model, criterion, optimizer, epochs)"
      ]
    },
    {
      "cell_type": "code",
      "execution_count": null,
      "metadata": {
        "execution": {
          "iopub.execute_input": "2022-02-08T13:59:24.734397Z",
          "iopub.status.busy": "2022-02-08T13:59:24.734142Z",
          "iopub.status.idle": "2022-02-08T13:59:25.197097Z",
          "shell.execute_reply": "2022-02-08T13:59:25.19632Z",
          "shell.execute_reply.started": "2022-02-08T13:59:24.734369Z"
        },
        "id": "u2-CrvcJBWlX",
        "trusted": true
      },
      "outputs": [],
      "source": [
        "model.eval()\n",
        "dummy_input, _ = DataLoader(TrainDataSet[0])\n",
        "torch.onnx.export(model,\n",
        "         dummy_input.cuda() if device == \"cuda\" else dummy_input,\n",
        "         PATH+\"galaxy_classification_1.onnx\",\n",
        "         export_params=True,\n",
        "         opset_version=10,\n",
        "         do_constant_folding=True,\n",
        "         input_names = ['modelInput'],\n",
        "         output_names = ['modelOutput'],\n",
        "         dynamic_axes={'modelInput' : {0 : 'batch_size'},\n",
        "                                'modelOutput' : {0 : 'batch_size'}}) \n",
        "print('Model has been converted to ONNX')"
      ]
    },
    {
      "cell_type": "code",
      "execution_count": null,
      "metadata": {
        "execution": {
          "iopub.execute_input": "2022-02-08T13:59:32.522598Z",
          "iopub.status.busy": "2022-02-08T13:59:32.522012Z",
          "iopub.status.idle": "2022-02-08T13:59:59.625803Z",
          "shell.execute_reply": "2022-02-08T13:59:59.624802Z",
          "shell.execute_reply.started": "2022-02-08T13:59:32.522557Z"
        },
        "id": "uQYjqJayBWlY",
        "trusted": true
      },
      "outputs": [],
      "source": [
        "%%capture\n",
        "!unzip images_test_rev1.zip"
      ]
    },
    {
      "cell_type": "code",
      "execution_count": null,
      "metadata": {
        "execution": {
          "iopub.execute_input": "2022-02-08T13:59:59.628509Z",
          "iopub.status.busy": "2022-02-08T13:59:59.628227Z",
          "iopub.status.idle": "2022-02-08T13:59:59.674314Z",
          "shell.execute_reply": "2022-02-08T13:59:59.673665Z",
          "shell.execute_reply.started": "2022-02-08T13:59:59.628472Z"
        },
        "id": "DKYyjyweBWlY",
        "trusted": true
      },
      "outputs": [],
      "source": [
        "testfiles = os.listdir(test_folder)"
      ]
    },
    {
      "cell_type": "code",
      "execution_count": null,
      "metadata": {
        "execution": {
          "iopub.execute_input": "2022-02-08T13:59:59.675817Z",
          "iopub.status.busy": "2022-02-08T13:59:59.675561Z",
          "iopub.status.idle": "2022-02-08T13:59:59.684225Z",
          "shell.execute_reply": "2022-02-08T13:59:59.683507Z",
          "shell.execute_reply.started": "2022-02-08T13:59:59.675786Z"
        },
        "id": "SB3FL-86BWlY",
        "trusted": true
      },
      "outputs": [],
      "source": [
        "class GalaxyDataTestSet(torch.utils.data.Dataset):\n",
        "    def __init__(self,files, image_folder, transform = None):\n",
        "        self.files = files\n",
        "        self.image_folder = image_folder\n",
        "        self.transform = transform\n",
        "\n",
        "    def __len__(self):\n",
        "        return len(self.files)\n",
        "\n",
        "    def __getitem__(self, index):\n",
        "        filename = self.files[index]\n",
        "        image = Image.open(os.path.join(self.image_folder, str(filename)))\n",
        "        if self.transform is not None:\n",
        "            image = self.transform(image)\n",
        "        return image"
      ]
    },
    {
      "cell_type": "code",
      "execution_count": null,
      "metadata": {
        "execution": {
          "iopub.execute_input": "2022-02-08T13:59:59.685852Z",
          "iopub.status.busy": "2022-02-08T13:59:59.685497Z",
          "iopub.status.idle": "2022-02-08T13:59:59.694776Z",
          "shell.execute_reply": "2022-02-08T13:59:59.693931Z",
          "shell.execute_reply.started": "2022-02-08T13:59:59.685817Z"
        },
        "id": "DnTQFX3aBWlY",
        "trusted": true
      },
      "outputs": [],
      "source": [
        "testset = GalaxyDataTestSet(testfiles, test_folder, transform)\n",
        "test_dl = DataLoader(testset, batch_size=1)"
      ]
    },
    {
      "cell_type": "code",
      "execution_count": null,
      "metadata": {
        "execution": {
          "iopub.execute_input": "2022-02-08T13:59:59.697472Z",
          "iopub.status.busy": "2022-02-08T13:59:59.697153Z",
          "iopub.status.idle": "2022-02-08T13:59:59.705361Z",
          "shell.execute_reply": "2022-02-08T13:59:59.704572Z",
          "shell.execute_reply.started": "2022-02-08T13:59:59.697437Z"
        },
        "id": "3Ro8GZqJBWlY",
        "trusted": true
      },
      "outputs": [],
      "source": [
        "@torch.no_grad()\n",
        "def test_loop(model, testdata, loss_fn, t_gpu):\n",
        "    print('*'*5+'Testing Started'+'*'*5)\n",
        "    model.train(False)\n",
        "    model.eval()\n",
        "    \n",
        "    full_pred = []\n",
        "\n",
        "    for data in tqdm(testdata):\n",
        "        if t_gpu:\n",
        "            data = data.cuda()\n",
        "\n",
        "        output = model(data)\n",
        "        full_pred.append(output)\n",
        "    return full_pred"
      ]
    },
    {
      "cell_type": "code",
      "execution_count": null,
      "metadata": {
        "execution": {
          "iopub.execute_input": "2022-02-08T13:59:59.707025Z",
          "iopub.status.busy": "2022-02-08T13:59:59.706736Z",
          "iopub.status.idle": "2022-02-08T14:07:43.531531Z",
          "shell.execute_reply": "2022-02-08T14:07:43.530683Z",
          "shell.execute_reply.started": "2022-02-08T13:59:59.706988Z"
        },
        "id": "WRkPDtJ5BWlZ",
        "trusted": true
      },
      "outputs": [],
      "source": [
        "pred = test_loop(model, test_dl, criterion, device == \"cuda\")"
      ]
    },
    {
      "cell_type": "code",
      "execution_count": null,
      "metadata": {
        "execution": {
          "iopub.execute_input": "2022-02-08T14:24:38.815052Z",
          "iopub.status.busy": "2022-02-08T14:24:38.814767Z",
          "iopub.status.idle": "2022-02-08T14:24:40.523068Z",
          "shell.execute_reply": "2022-02-08T14:24:40.522316Z",
          "shell.execute_reply.started": "2022-02-08T14:24:38.815021Z"
        },
        "id": "kwGugAWMBWlZ",
        "trusted": true
      },
      "outputs": [],
      "source": [
        "predictions = []\n",
        "for pr in pred:\n",
        "    predictions.append(pr.cpu().numpy().reshape(-1))\n",
        "\n",
        "def NormalizeData(data):\n",
        "    return (data - np.min(data)) / (np.max(data) - np.min(data))\n",
        "\n",
        "predictions_nm = NormalizeData(np.array(predictions)).astype('float128')"
      ]
    },
    {
      "cell_type": "code",
      "execution_count": null,
      "metadata": {
        "execution": {
          "iopub.execute_input": "2022-02-08T14:13:33.563342Z",
          "iopub.status.busy": "2022-02-08T14:13:33.562516Z",
          "iopub.status.idle": "2022-02-08T14:13:33.591416Z",
          "shell.execute_reply": "2022-02-08T14:13:33.590675Z",
          "shell.execute_reply.started": "2022-02-08T14:13:33.563295Z"
        },
        "id": "GgpPSik5BWlZ",
        "trusted": true
      },
      "outputs": [],
      "source": [
        "gids = [int(i[:-4]) for i in testfiles]"
      ]
    },
    {
      "cell_type": "code",
      "execution_count": null,
      "metadata": {
        "execution": {
          "iopub.execute_input": "2022-02-08T14:24:41.859775Z",
          "iopub.status.busy": "2022-02-08T14:24:41.858957Z",
          "iopub.status.idle": "2022-02-08T14:24:41.914576Z",
          "shell.execute_reply": "2022-02-08T14:24:41.913779Z",
          "shell.execute_reply.started": "2022-02-08T14:24:41.859729Z"
        },
        "id": "PTBUpTHkBWlZ",
        "trusted": true
      },
      "outputs": [],
      "source": [
        "df = pd.DataFrame(predictions_nm, columns = train_set.columns[1:])\n",
        "df.insert(0, 'GalaxyID', gids)\n",
        "df.head()"
      ]
    },
    {
      "cell_type": "code",
      "execution_count": null,
      "metadata": {
        "id": "-csbY8Zvx1F1"
      },
      "outputs": [],
      "source": [
        "df.to_csv(PATH+'normalize_file.csv', index = False)"
      ]
    },
    {
      "cell_type": "code",
      "execution_count": null,
      "metadata": {
        "execution": {
          "iopub.execute_input": "2022-02-08T14:22:26.171888Z",
          "iopub.status.busy": "2022-02-08T14:22:26.171324Z",
          "iopub.status.idle": "2022-02-08T14:22:26.257579Z",
          "shell.execute_reply": "2022-02-08T14:22:26.256779Z",
          "shell.execute_reply.started": "2022-02-08T14:22:26.171847Z"
        },
        "id": "eyx7nTGEBWlZ",
        "trusted": true
      },
      "outputs": [],
      "source": [
        "sft_pred = torch.nn.functional.softmax(torch.from_numpy(np.array(predictions)), dim = 1).cpu().numpy()"
      ]
    },
    {
      "cell_type": "code",
      "execution_count": null,
      "metadata": {
        "execution": {
          "iopub.execute_input": "2022-02-08T14:22:37.30223Z",
          "iopub.status.busy": "2022-02-08T14:22:37.301533Z",
          "iopub.status.idle": "2022-02-08T14:22:37.356266Z",
          "shell.execute_reply": "2022-02-08T14:22:37.355463Z",
          "shell.execute_reply.started": "2022-02-08T14:22:37.302193Z"
        },
        "id": "wNSxpKoIBWlZ",
        "trusted": true
      },
      "outputs": [],
      "source": [
        "df = pd.DataFrame(sft_pred, columns = train_set.columns[1:])\n",
        "df.insert(0, 'GalaxyID', gids)\n",
        "df.head()"
      ]
    },
    {
      "cell_type": "code",
      "execution_count": null,
      "metadata": {
        "execution": {
          "iopub.execute_input": "2022-02-08T14:24:47.712236Z",
          "iopub.status.busy": "2022-02-08T14:24:47.711649Z",
          "iopub.status.idle": "2022-02-08T14:24:54.155021Z",
          "shell.execute_reply": "2022-02-08T14:24:54.154033Z",
          "shell.execute_reply.started": "2022-02-08T14:24:47.712194Z"
        },
        "id": "FM1247YRBWla",
        "trusted": true
      },
      "outputs": [],
      "source": [
        "df.to_csv(PATH+'soft_max_file.csv', index = False)"
      ]
    },
    {
      "cell_type": "code",
      "execution_count": null,
      "metadata": {
        "id": "MM690ZkNvEL4"
      },
      "outputs": [],
      "source": [
        "df = pd.DataFrame(predictions, columns = train_set.columns[1:])\n",
        "df.insert(0, 'GalaxyID', gids)\n",
        "df.head()"
      ]
    },
    {
      "cell_type": "code",
      "execution_count": null,
      "metadata": {
        "id": "YCEOqhkGvvfI"
      },
      "outputs": [],
      "source": [
        "df.to_csv(PATH+'unchanged_file.csv', index = False)"
      ]
    }
  ],
  "metadata": {
    "accelerator": "GPU",
    "colab": {
      "collapsed_sections": [],
      "name": "galaxy_zoo_checkpoint.ipynb",
      "provenance": []
    },
    "kernelspec": {
      "display_name": "Python 3",
      "language": "python",
      "name": "python3"
    },
    "language_info": {
      "codemirror_mode": {
        "name": "ipython",
        "version": 3
      },
      "file_extension": ".py",
      "mimetype": "text/x-python",
      "name": "python",
      "nbconvert_exporter": "python",
      "pygments_lexer": "ipython3",
      "version": "3.6.4"
    },
    "widgets": {
      "application/vnd.jupyter.widget-state+json": {
        "1086928d754045f58383deb04ecfc9ba": {
          "model_module": "@jupyter-widgets/controls",
          "model_module_version": "1.5.0",
          "model_name": "HBoxModel",
          "state": {
            "_dom_classes": [],
            "_model_module": "@jupyter-widgets/controls",
            "_model_module_version": "1.5.0",
            "_model_name": "HBoxModel",
            "_view_count": null,
            "_view_module": "@jupyter-widgets/controls",
            "_view_module_version": "1.5.0",
            "_view_name": "HBoxView",
            "box_style": "",
            "children": [
              "IPY_MODEL_1d3ca0eeddf54dbba1f606b94c4cbabb",
              "IPY_MODEL_7edb770db3e645799691f372a757b06d",
              "IPY_MODEL_cc272ed1e5284ef48636a12eacfab7da"
            ],
            "layout": "IPY_MODEL_ec442f93fa49448594ceb62d03c4c373"
          }
        },
        "1d3ca0eeddf54dbba1f606b94c4cbabb": {
          "model_module": "@jupyter-widgets/controls",
          "model_module_version": "1.5.0",
          "model_name": "HTMLModel",
          "state": {
            "_dom_classes": [],
            "_model_module": "@jupyter-widgets/controls",
            "_model_module_version": "1.5.0",
            "_model_name": "HTMLModel",
            "_view_count": null,
            "_view_module": "@jupyter-widgets/controls",
            "_view_module_version": "1.5.0",
            "_view_name": "HTMLView",
            "description": "",
            "description_tooltip": null,
            "layout": "IPY_MODEL_ab2768e2d56b4381b2f89104d6705831",
            "placeholder": "​",
            "style": "IPY_MODEL_dcf774e46522468db12985ecdcca7c67",
            "value": "100%"
          }
        },
        "7edb770db3e645799691f372a757b06d": {
          "model_module": "@jupyter-widgets/controls",
          "model_module_version": "1.5.0",
          "model_name": "FloatProgressModel",
          "state": {
            "_dom_classes": [],
            "_model_module": "@jupyter-widgets/controls",
            "_model_module_version": "1.5.0",
            "_model_name": "FloatProgressModel",
            "_view_count": null,
            "_view_module": "@jupyter-widgets/controls",
            "_view_module_version": "1.5.0",
            "_view_name": "ProgressView",
            "bar_style": "success",
            "description": "",
            "description_tooltip": null,
            "layout": "IPY_MODEL_870e1589c5d042c799f942d52b765759",
            "max": 46830571,
            "min": 0,
            "orientation": "horizontal",
            "style": "IPY_MODEL_c8f936ef79204059b8a09b0ae32ff04b",
            "value": 46830571
          }
        },
        "870e1589c5d042c799f942d52b765759": {
          "model_module": "@jupyter-widgets/base",
          "model_module_version": "1.2.0",
          "model_name": "LayoutModel",
          "state": {
            "_model_module": "@jupyter-widgets/base",
            "_model_module_version": "1.2.0",
            "_model_name": "LayoutModel",
            "_view_count": null,
            "_view_module": "@jupyter-widgets/base",
            "_view_module_version": "1.2.0",
            "_view_name": "LayoutView",
            "align_content": null,
            "align_items": null,
            "align_self": null,
            "border": null,
            "bottom": null,
            "display": null,
            "flex": null,
            "flex_flow": null,
            "grid_area": null,
            "grid_auto_columns": null,
            "grid_auto_flow": null,
            "grid_auto_rows": null,
            "grid_column": null,
            "grid_gap": null,
            "grid_row": null,
            "grid_template_areas": null,
            "grid_template_columns": null,
            "grid_template_rows": null,
            "height": null,
            "justify_content": null,
            "justify_items": null,
            "left": null,
            "margin": null,
            "max_height": null,
            "max_width": null,
            "min_height": null,
            "min_width": null,
            "object_fit": null,
            "object_position": null,
            "order": null,
            "overflow": null,
            "overflow_x": null,
            "overflow_y": null,
            "padding": null,
            "right": null,
            "top": null,
            "visibility": null,
            "width": null
          }
        },
        "a5d46837745b42ada8c36df78fd209de": {
          "model_module": "@jupyter-widgets/base",
          "model_module_version": "1.2.0",
          "model_name": "LayoutModel",
          "state": {
            "_model_module": "@jupyter-widgets/base",
            "_model_module_version": "1.2.0",
            "_model_name": "LayoutModel",
            "_view_count": null,
            "_view_module": "@jupyter-widgets/base",
            "_view_module_version": "1.2.0",
            "_view_name": "LayoutView",
            "align_content": null,
            "align_items": null,
            "align_self": null,
            "border": null,
            "bottom": null,
            "display": null,
            "flex": null,
            "flex_flow": null,
            "grid_area": null,
            "grid_auto_columns": null,
            "grid_auto_flow": null,
            "grid_auto_rows": null,
            "grid_column": null,
            "grid_gap": null,
            "grid_row": null,
            "grid_template_areas": null,
            "grid_template_columns": null,
            "grid_template_rows": null,
            "height": null,
            "justify_content": null,
            "justify_items": null,
            "left": null,
            "margin": null,
            "max_height": null,
            "max_width": null,
            "min_height": null,
            "min_width": null,
            "object_fit": null,
            "object_position": null,
            "order": null,
            "overflow": null,
            "overflow_x": null,
            "overflow_y": null,
            "padding": null,
            "right": null,
            "top": null,
            "visibility": null,
            "width": null
          }
        },
        "ab2768e2d56b4381b2f89104d6705831": {
          "model_module": "@jupyter-widgets/base",
          "model_module_version": "1.2.0",
          "model_name": "LayoutModel",
          "state": {
            "_model_module": "@jupyter-widgets/base",
            "_model_module_version": "1.2.0",
            "_model_name": "LayoutModel",
            "_view_count": null,
            "_view_module": "@jupyter-widgets/base",
            "_view_module_version": "1.2.0",
            "_view_name": "LayoutView",
            "align_content": null,
            "align_items": null,
            "align_self": null,
            "border": null,
            "bottom": null,
            "display": null,
            "flex": null,
            "flex_flow": null,
            "grid_area": null,
            "grid_auto_columns": null,
            "grid_auto_flow": null,
            "grid_auto_rows": null,
            "grid_column": null,
            "grid_gap": null,
            "grid_row": null,
            "grid_template_areas": null,
            "grid_template_columns": null,
            "grid_template_rows": null,
            "height": null,
            "justify_content": null,
            "justify_items": null,
            "left": null,
            "margin": null,
            "max_height": null,
            "max_width": null,
            "min_height": null,
            "min_width": null,
            "object_fit": null,
            "object_position": null,
            "order": null,
            "overflow": null,
            "overflow_x": null,
            "overflow_y": null,
            "padding": null,
            "right": null,
            "top": null,
            "visibility": null,
            "width": null
          }
        },
        "c8f936ef79204059b8a09b0ae32ff04b": {
          "model_module": "@jupyter-widgets/controls",
          "model_module_version": "1.5.0",
          "model_name": "ProgressStyleModel",
          "state": {
            "_model_module": "@jupyter-widgets/controls",
            "_model_module_version": "1.5.0",
            "_model_name": "ProgressStyleModel",
            "_view_count": null,
            "_view_module": "@jupyter-widgets/base",
            "_view_module_version": "1.2.0",
            "_view_name": "StyleView",
            "bar_color": null,
            "description_width": ""
          }
        },
        "cc272ed1e5284ef48636a12eacfab7da": {
          "model_module": "@jupyter-widgets/controls",
          "model_module_version": "1.5.0",
          "model_name": "HTMLModel",
          "state": {
            "_dom_classes": [],
            "_model_module": "@jupyter-widgets/controls",
            "_model_module_version": "1.5.0",
            "_model_name": "HTMLModel",
            "_view_count": null,
            "_view_module": "@jupyter-widgets/controls",
            "_view_module_version": "1.5.0",
            "_view_name": "HTMLView",
            "description": "",
            "description_tooltip": null,
            "layout": "IPY_MODEL_a5d46837745b42ada8c36df78fd209de",
            "placeholder": "​",
            "style": "IPY_MODEL_e2033f07ff5743b2bc46bf5ddd50ceb0",
            "value": " 44.7M/44.7M [00:00&lt;00:00, 61.3MB/s]"
          }
        },
        "dcf774e46522468db12985ecdcca7c67": {
          "model_module": "@jupyter-widgets/controls",
          "model_module_version": "1.5.0",
          "model_name": "DescriptionStyleModel",
          "state": {
            "_model_module": "@jupyter-widgets/controls",
            "_model_module_version": "1.5.0",
            "_model_name": "DescriptionStyleModel",
            "_view_count": null,
            "_view_module": "@jupyter-widgets/base",
            "_view_module_version": "1.2.0",
            "_view_name": "StyleView",
            "description_width": ""
          }
        },
        "e2033f07ff5743b2bc46bf5ddd50ceb0": {
          "model_module": "@jupyter-widgets/controls",
          "model_module_version": "1.5.0",
          "model_name": "DescriptionStyleModel",
          "state": {
            "_model_module": "@jupyter-widgets/controls",
            "_model_module_version": "1.5.0",
            "_model_name": "DescriptionStyleModel",
            "_view_count": null,
            "_view_module": "@jupyter-widgets/base",
            "_view_module_version": "1.2.0",
            "_view_name": "StyleView",
            "description_width": ""
          }
        },
        "ec442f93fa49448594ceb62d03c4c373": {
          "model_module": "@jupyter-widgets/base",
          "model_module_version": "1.2.0",
          "model_name": "LayoutModel",
          "state": {
            "_model_module": "@jupyter-widgets/base",
            "_model_module_version": "1.2.0",
            "_model_name": "LayoutModel",
            "_view_count": null,
            "_view_module": "@jupyter-widgets/base",
            "_view_module_version": "1.2.0",
            "_view_name": "LayoutView",
            "align_content": null,
            "align_items": null,
            "align_self": null,
            "border": null,
            "bottom": null,
            "display": null,
            "flex": null,
            "flex_flow": null,
            "grid_area": null,
            "grid_auto_columns": null,
            "grid_auto_flow": null,
            "grid_auto_rows": null,
            "grid_column": null,
            "grid_gap": null,
            "grid_row": null,
            "grid_template_areas": null,
            "grid_template_columns": null,
            "grid_template_rows": null,
            "height": null,
            "justify_content": null,
            "justify_items": null,
            "left": null,
            "margin": null,
            "max_height": null,
            "max_width": null,
            "min_height": null,
            "min_width": null,
            "object_fit": null,
            "object_position": null,
            "order": null,
            "overflow": null,
            "overflow_x": null,
            "overflow_y": null,
            "padding": null,
            "right": null,
            "top": null,
            "visibility": null,
            "width": null
          }
        }
      }
    }
  },
  "nbformat": 4,
  "nbformat_minor": 0
}
